{
 "cells": [
  {
   "cell_type": "code",
   "execution_count": 55,
   "id": "a481a5a5-1486-4e78-89fe-0e922fe39eef",
   "metadata": {},
   "outputs": [
    {
     "name": "stdout",
     "output_type": "stream",
     "text": [
      "* Running on local URL:  http://127.0.0.1:7863\n",
      "* To create a public link, set `share=True` in `launch()`.\n"
     ]
    },
    {
     "data": {
      "text/html": [
       "<div><iframe src=\"http://127.0.0.1:7863/\" width=\"100%\" height=\"500\" allow=\"autoplay; camera; microphone; clipboard-read; clipboard-write;\" frameborder=\"0\" allowfullscreen></iframe></div>"
      ],
      "text/plain": [
       "<IPython.core.display.HTML object>"
      ]
     },
     "metadata": {},
     "output_type": "display_data"
    },
    {
     "data": {
      "text/plain": []
     },
     "execution_count": 55,
     "metadata": {},
     "output_type": "execute_result"
    }
   ],
   "source": [
    "import pandas as pd\n",
    "import gradio as gr\n",
    "from mlxtend.preprocessing import TransactionEncoder\n",
    "from mlxtend.frequent_patterns import apriori, association_rules\n",
    "\n",
    "# Load and preprocess the dataset\n",
    "def load_rules(file_path='Market_Basket_Optimisation_1.csv', min_support=0.002, min_lift=1.0):\n",
    "    df = pd.read_csv(file_path)\n",
    "    df['products'] = df['products'].astype(str).apply(lambda x: x.split(','))\n",
    "\n",
    "    te = TransactionEncoder()\n",
    "    te_ary = te.fit(df['products']).transform(df['products'])\n",
    "    df_encoded = pd.DataFrame(te_ary, columns=te.columns_)\n",
    "\n",
    "    frequent_itemsets = apriori(df_encoded, min_support=min_support, use_colnames=True)\n",
    "    rules = association_rules(frequent_itemsets, metric=\"lift\", min_threshold=min_lift)\n",
    "\n",
    "    rules['antecedents_str'] = rules['antecedents'].apply(lambda x: ', '.join(sorted(list(x))))\n",
    "    rules['consequents_str'] = rules['consequents'].apply(lambda x: ', '.join(sorted(list(x))))\n",
    "\n",
    "    return rules[['antecedents_str', 'consequents_str', 'confidence', 'lift']]\n",
    "\n",
    "# Load rules once\n",
    "rules_df = load_rules()\n",
    "\n",
    "# Define recommendation function\n",
    "def recommend_products(antecedents):\n",
    "    input_cleaned = ', '.join(sorted([item.strip().lower() for item in antecedents.split(',')]))\n",
    "    matching = rules_df[rules_df['antecedents_str'] == input_cleaned]\n",
    "\n",
    "    if matching.empty:\n",
    "        return \"No matching bundles found.\"\n",
    "    else:\n",
    "        return matching.sort_values(by=\"lift\", ascending=False).reset_index(drop=True)[['consequents_str', 'confidence', 'lift']]\n",
    "\n",
    "# Gradio interface\n",
    "with gr.Blocks() as demo:\n",
    "    gr.Markdown(\"# 🛍️ Product Bundling Recommender\")\n",
    "    gr.Markdown(\"Enter products (comma-separated), e.g., `milk, bread`\")\n",
    "\n",
    "    input_text = gr.Textbox(label=\"Antecedents\")\n",
    "    output_table = gr.Dataframe(label=\"Recommended Consequents\")\n",
    "\n",
    "    btn = gr.Button(\"Recommend\")\n",
    "    btn.click(fn=recommend_products, inputs=input_text, outputs=output_table)\n",
    "\n",
    "demo.launch()\n"
   ]
  },
  {
   "cell_type": "code",
   "execution_count": null,
   "id": "128fcd3a-89f9-4a1b-bdf1-2197638613e7",
   "metadata": {},
   "outputs": [],
   "source": []
  }
 ],
 "metadata": {
  "kernelspec": {
   "display_name": "Python 3 (ipykernel)",
   "language": "python",
   "name": "python3"
  },
  "language_info": {
   "codemirror_mode": {
    "name": "ipython",
    "version": 3
   },
   "file_extension": ".py",
   "mimetype": "text/x-python",
   "name": "python",
   "nbconvert_exporter": "python",
   "pygments_lexer": "ipython3",
   "version": "3.13.2"
  }
 },
 "nbformat": 4,
 "nbformat_minor": 5
}
